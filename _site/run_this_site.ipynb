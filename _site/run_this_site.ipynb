{
 "cells": [
  {
   "cell_type": "markdown",
   "id": "50da208f",
   "metadata": {},
   "source": [
    "## Clean markdowns \n",
    "First, run this function `replace_percent20_in_md`. This will go through all the files in this directory replace any %20 with ''. This is because the notion files get marked with %20 as 'links' but the actual filepaths don't have %20, so then the filepath can't access the image files. \n"
   ]
  },
  {
   "cell_type": "code",
   "execution_count": 1,
   "id": "d1b30798",
   "metadata": {},
   "outputs": [],
   "source": [
    "import os\n",
    "\n",
    "\n",
    "\n",
    "def replace_percent20_in_md(directory):\n",
    "    for root, _, files in os.walk(directory):\n",
    "        for file in files:\n",
    "            if file.endswith('.md'):\n",
    "                filepath = os.path.join(root, file)\n",
    "                with open(filepath, 'r', encoding='utf-8') as f:\n",
    "                    content = f.read()\n",
    "                if '%20' in content:\n",
    "                    new_content = content.replace('%20', ' ')\n",
    "                    with open(filepath, 'w', encoding='utf-8') as f:\n",
    "                        f.write(new_content)\n",
    "                    print(f\"Updated: {filepath}\")\n",
    "\n",
    "# 🔧 Change this to your target directory\n",
    "replace_percent20_in_md(os.getcwd())\n"
   ]
  },
  {
   "cell_type": "markdown",
   "id": "1f1e7167",
   "metadata": {},
   "source": [
    "## Start up the jekyll site\n",
    "If you're not already in the site, run the following line to start up teh jekyll site locally, so you can preview any changes before pushing them to Github Pages. This is useful for debugging and also so you don't have to wait for the Github Pages implementation (can take up to 10mins)"
   ]
  },
  {
   "cell_type": "code",
   "execution_count": null,
   "id": "b0e6c012",
   "metadata": {},
   "outputs": [],
   "source": [
    "# Run this here or create 'New Terminal' and run in the terminal\n",
    "os.system('bundle exec jekyll serve')"
   ]
  },
  {
   "cell_type": "markdown",
   "id": "d4d37a6c",
   "metadata": {},
   "source": [
    "## Push changes to Github Pages\n",
    "Once you're satisfied with your site, go through the following lines in the terminal or python to push your changes to github."
   ]
  },
  {
   "cell_type": "code",
   "execution_count": 3,
   "id": "95be460f",
   "metadata": {},
   "outputs": [
    {
     "name": "stdout",
     "output_type": "stream",
     "text": [
      "On branch main\n",
      "Your branch is up to date with 'origin/main'.\n",
      "\n",
      "Changes to be committed:\n",
      "  (use \"git restore --staged <file>...\" to unstage)\n",
      "\tmodified:   docs/Current Projects/index.md\n",
      "\tnew file:   docs/Using this Wiki/Structure of this Wiki.md\n",
      "\tmodified:   docs/Using this Wiki/Using this Wiki.md\n",
      "\n",
      "[main f5df9ec] Adding ~structure of this wiki~ file\n",
      " 3 files changed, 310 insertions(+), 2 deletions(-)\n",
      " create mode 100644 docs/Using this Wiki/Structure of this Wiki.md\n"
     ]
    },
    {
     "name": "stderr",
     "output_type": "stream",
     "text": [
      "To https://github.com/HolmesLab/holmeslab.git\n",
      "   60b72f7..f5df9ec  main -> main\n"
     ]
    },
    {
     "data": {
      "text/plain": [
       "0"
      ]
     },
     "execution_count": 3,
     "metadata": {},
     "output_type": "execute_result"
    }
   ],
   "source": [
    "os.system('git add .') # This adds all changed files in the directory. If you want to just update one file/folder, just specify it by name\n",
    "os.system('git status') #optional, but prints out all that's being changed\n",
    "\n",
    "os.system(\"git commit -m 'Adding ~structure of this wiki~ file'\") #change the notes about commit based on what you're adding\n",
    "os.system('git push')\n"
   ]
  }
 ],
 "metadata": {
  "kernelspec": {
   "display_name": "base",
   "language": "python",
   "name": "python3"
  },
  "language_info": {
   "codemirror_mode": {
    "name": "ipython",
    "version": 3
   },
   "file_extension": ".py",
   "mimetype": "text/x-python",
   "name": "python",
   "nbconvert_exporter": "python",
   "pygments_lexer": "ipython3",
   "version": "3.12.7"
  }
 },
 "nbformat": 4,
 "nbformat_minor": 5
}
