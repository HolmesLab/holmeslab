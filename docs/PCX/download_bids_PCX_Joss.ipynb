{
 "cells": [
  {
   "cell_type": "code",
   "execution_count": null,
   "id": "0157d3c6",
   "metadata": {},
   "outputs": [],
   "source": [
    "import os\n",
    "import sys\n",
    "import subprocess\n",
    "import json\n",
    "\n",
    "subjects = ['PCR200', 'PCR201'] # modify with the subjects you want\n",
    "\n",
    "for sub in subjects:\n",
    "    # Specify the filename for your shell script\n",
    "    filename = f\"{sub}.sh\"\n",
    "\n",
    "    content = f'''#! /bin/bash\n",
    "    #SBATCH --partition=p_dz268_1 # CAHBIR partition\n",
    "    #SBATCH --job-name={sub} # change to what you want the name to be \n",
    "    #SBATCH --nodes=1 # change depending on computational needs\n",
    "    #SBATCH --ntasks=1 # change if parallelizing\n",
    "    #SBATCH --cpus-per-task=1 # change depending on computational needs\n",
    "    #SBATCH --mem=2000 # change depending on computational needs\n",
    "    #SBATCH --time=48:00:00 # change depending on computational needs\n",
    "    #SBATCH --output=%x.out # see below\n",
    "    #SBATCH --error=%x.err # see below\n",
    "    #\n",
    "    module purge\n",
    "\n",
    "    # Activate the holmesenv virtual environment to use installed packages\n",
    "    # If you want to use a different conda, create a different script like activate.sh which activates your desired conda\n",
    "    /projects/f_ah1491_1/analysis_tools/holmesenv_conda/activate.sh \n",
    "    source ~/.bashrc\n",
    "\n",
    "    fw export bids -p \"ConteCenter\" --subject {sub} -g \"022\" /scratch/f_ah1491_1/internal_data/PCX/bids\n",
    "'''\n",
    "\n",
    "    # Open the file in write mode and write the content\n",
    "    with open(filename, \"w\") as f:\n",
    "        f.write(content)\n",
    "    \n",
    "    os.system(f'chmod +x {sub}.sh')\n",
    "    os.system(f'sbatch {sub}.sh')\n",
    "\n"
   ]
  }
 ],
 "metadata": {
  "language_info": {
   "name": "python"
  }
 },
 "nbformat": 4,
 "nbformat_minor": 5
}
