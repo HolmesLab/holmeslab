{
 "cells": [
  {
   "cell_type": "markdown",
   "id": "50da208f",
   "metadata": {},
   "source": [
    "## Clean markdowns \n",
    "First, run this function `replace_percent20_in_md`. This will go through all the files in this directory replace any %20 with ''. This is because the notion files get marked with %20 as 'links' but the actual filepaths don't have %20, so then the filepath can't access the image files. \n"
   ]
  },
  {
   "cell_type": "code",
   "execution_count": null,
   "id": "d1b30798",
   "metadata": {},
   "outputs": [
    {
     "ename": "UnboundLocalError",
     "evalue": "cannot access local variable 'file_to_clean' where it is not associated with a value",
     "output_type": "error",
     "traceback": [
      "\u001b[0;31m---------------------------------------------------------------------------\u001b[0m",
      "\u001b[0;31mUnboundLocalError\u001b[0m                         Traceback (most recent call last)",
      "Cell \u001b[0;32mIn[2], line 26\u001b[0m\n\u001b[1;32m     23\u001b[0m \t\t\t\t\u001b[38;5;28mprint\u001b[39m(\u001b[38;5;124mf\u001b[39m\u001b[38;5;124m\"\u001b[39m\u001b[38;5;124mUpdated: \u001b[39m\u001b[38;5;132;01m{\u001b[39;00mfilepath\u001b[38;5;132;01m}\u001b[39;00m\u001b[38;5;124m\"\u001b[39m)\n\u001b[1;32m     25\u001b[0m \u001b[38;5;66;03m# 🔧 Change this to your target directory\u001b[39;00m\n\u001b[0;32m---> 26\u001b[0m replace_percent20_in_md(os\u001b[38;5;241m.\u001b[39mgetcwd())\n",
      "Cell \u001b[0;32mIn[2], line 16\u001b[0m, in \u001b[0;36mreplace_percent20_in_md\u001b[0;34m(directory, changed_files)\u001b[0m\n\u001b[1;32m     14\u001b[0m \t\u001b[38;5;28;01mif\u001b[39;00m file\u001b[38;5;241m.\u001b[39mendswith(\u001b[38;5;124m'\u001b[39m\u001b[38;5;124m.md\u001b[39m\u001b[38;5;124m'\u001b[39m):\n\u001b[1;32m     15\u001b[0m \t\tfile_to_clean \u001b[38;5;241m=\u001b[39m file\n\u001b[0;32m---> 16\u001b[0m filepath \u001b[38;5;241m=\u001b[39m os\u001b[38;5;241m.\u001b[39mpath\u001b[38;5;241m.\u001b[39mjoin(root, file_to_clean)\n\u001b[1;32m     17\u001b[0m \u001b[38;5;28;01mwith\u001b[39;00m \u001b[38;5;28mopen\u001b[39m(filepath, \u001b[38;5;124m'\u001b[39m\u001b[38;5;124mr\u001b[39m\u001b[38;5;124m'\u001b[39m, encoding\u001b[38;5;241m=\u001b[39m\u001b[38;5;124m'\u001b[39m\u001b[38;5;124mutf-8\u001b[39m\u001b[38;5;124m'\u001b[39m) \u001b[38;5;28;01mas\u001b[39;00m f:\n\u001b[1;32m     18\u001b[0m \tcontent \u001b[38;5;241m=\u001b[39m f\u001b[38;5;241m.\u001b[39mread()\n",
      "\u001b[0;31mUnboundLocalError\u001b[0m: cannot access local variable 'file_to_clean' where it is not associated with a value"
     ]
    }
   ],
   "source": [
    "import os\n",
    "\n",
    "changed_files=[] #add the names of your changed files, ie 'travel.md' or just 'travel' \n",
    "\n",
    "def replace_percent20_in_md(directory, changed_files=None):\n",
    "\tfor root, _, files in os.walk(directory):\n",
    "\t\tfor file in files:\n",
    "\t\t\tfile_to_clean = None\n",
    "\t\t\tif changed_files is not None:\n",
    "\t\t\t\tif any(item for item in changed_files) in file:\n",
    "\t\t\t\t\tfile_to_clean = file\n",
    "\t\t\t\telse:\n",
    "\t\t\t\t\tcontinue\n",
    "\t\t\telse:\n",
    "\t\t\t\tif file.endswith('.md'):\n",
    "\t\t\t\t\tfile_to_clean = file\n",
    "\t\t\tif file_to_clean is not None:\n",
    "\t\t\t\tfilepath = os.path.join(root, file_to_clean)\n",
    "\t\t\t\twith open(filepath, 'r', encoding='utf-8') as f:\n",
    "\t\t\t\t\tcontent = f.read()\n",
    "\t\t\t\tif '%20' in content:\n",
    "\t\t\t\t\tnew_content = content.replace('%20', ' ')\n",
    "\t\t\t\t\twith open(filepath, 'w', encoding='utf-8') as f:\n",
    "\t\t\t\t\t\tf.write(new_content)\n",
    "\t\t\t\t\tprint(f\"Updated: {filepath}\")\n",
    "\n",
    "# 🔧 Change this to your target directory\n",
    "replace_percent20_in_md(os.getcwd())\n"
   ]
  },
  {
   "cell_type": "markdown",
   "id": "1f1e7167",
   "metadata": {},
   "source": [
    "## Start up the jekyll site\n",
    "If you're not already in the site, run the following line to start up teh jekyll site locally, so you can preview any changes before pushing them to Github Pages. This is useful for debugging and also so you don't have to wait for the Github Pages implementation (can take up to 10mins)"
   ]
  },
  {
   "cell_type": "code",
   "execution_count": null,
   "id": "b0e6c012",
   "metadata": {},
   "outputs": [],
   "source": [
    "# Run this here or create 'New Terminal' and run in the terminal\n",
    "os.system('bundle exec jekyll serve')"
   ]
  },
  {
   "cell_type": "markdown",
   "id": "d4d37a6c",
   "metadata": {},
   "source": [
    "## Push changes to Github Pages\n",
    "Once you're satisfied with your site, go through the following lines in the terminal or python to push your changes to github."
   ]
  },
  {
   "cell_type": "code",
   "execution_count": 3,
   "id": "95be460f",
   "metadata": {},
   "outputs": [
    {
     "name": "stdout",
     "output_type": "stream",
     "text": [
      "On branch main\n",
      "Your branch is up to date with 'origin/main'.\n",
      "\n",
      "Changes to be committed:\n",
      "  (use \"git restore --staged <file>...\" to unstage)\n",
      "\tmodified:   docs/Current Projects/index.md\n",
      "\tnew file:   docs/Using this Wiki/Structure of this Wiki.md\n",
      "\tmodified:   docs/Using this Wiki/Using this Wiki.md\n",
      "\n",
      "[main f5df9ec] Adding ~structure of this wiki~ file\n",
      " 3 files changed, 310 insertions(+), 2 deletions(-)\n",
      " create mode 100644 docs/Using this Wiki/Structure of this Wiki.md\n"
     ]
    },
    {
     "name": "stderr",
     "output_type": "stream",
     "text": [
      "To https://github.com/HolmesLab/holmeslab.git\n",
      "   60b72f7..f5df9ec  main -> main\n"
     ]
    },
    {
     "data": {
      "text/plain": [
       "0"
      ]
     },
     "execution_count": 3,
     "metadata": {},
     "output_type": "execute_result"
    }
   ],
   "source": [
    "os.system('git add .') # This adds all changed files in the directory. If you want to just update one file/folder, just specify it by name\n",
    "os.system('git status') #optional, but prints out all that's being changed\n",
    "\n",
    "os.system(\"git commit -m 'Adding ~structure of this wiki~ file'\") #change the notes about commit based on what you're adding\n",
    "os.system('git push')\n"
   ]
  }
 ],
 "metadata": {
  "kernelspec": {
   "display_name": "base",
   "language": "python",
   "name": "python3"
  },
  "language_info": {
   "codemirror_mode": {
    "name": "ipython",
    "version": 3
   },
   "file_extension": ".py",
   "mimetype": "text/x-python",
   "name": "python",
   "nbconvert_exporter": "python",
   "pygments_lexer": "ipython3",
   "version": "3.12.7"
  }
 },
 "nbformat": 4,
 "nbformat_minor": 5
}
