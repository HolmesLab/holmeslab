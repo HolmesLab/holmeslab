{
 "cells": [
  {
   "cell_type": "markdown",
   "id": "50da208f",
   "metadata": {},
   "source": [
    "## Clean markdowns \n",
    "First, run this function `replace_percent20_in_md`. This will go through all the files in this directory replace any %20 with ''. This is because the notion files get marked with %20 as 'links' but the actual filepaths don't have %20, so then the filepath can't access the image files. \n"
   ]
  },
  {
   "cell_type": "code",
   "execution_count": 1,
   "id": "d1b30798",
   "metadata": {},
   "outputs": [
    {
     "name": "stdout",
     "output_type": "stream",
     "text": [
      "Updated: /Users/demo/Library/CloudStorage/Box-Box/Holmes_Lab_Wiki/holmeslab.github.io/docs/admin/purchasing/invite-supplier.md\n",
      "Updated: /Users/demo/Library/CloudStorage/Box-Box/Holmes_Lab_Wiki/holmeslab.github.io/docs/admin/purchasing/index.md\n"
     ]
    }
   ],
   "source": [
    "import os\n",
    "\n",
    "changed_files=[] #add the names of your changed files, ie 'travel.md' or just 'travel' \n",
    "\n",
    "def replace_percent20_in_md(directory, changed_files=None):\n",
    "\tfor root, _, files in os.walk(directory):\n",
    "\t\tfor file in files:\n",
    "\t\t\tfile_to_clean = None\n",
    "\t\t\tif changed_files is not None:\n",
    "\t\t\t\tif any(item for item in changed_files) in file:\n",
    "\t\t\t\t\tfile_to_clean = file\n",
    "\t\t\t\telse:\n",
    "\t\t\t\t\tcontinue\n",
    "\t\t\telse:\n",
    "\t\t\t\tif file.endswith('.md'):\n",
    "\t\t\t\t\tfile_to_clean = file\n",
    "\t\t\tif file_to_clean is not None:\n",
    "\t\t\t\tfilepath = os.path.join(root, file_to_clean)\n",
    "\t\t\t\twith open(filepath, 'r', encoding='utf-8') as f:\n",
    "\t\t\t\t\tcontent = f.read()\n",
    "\t\t\t\tif '%20' in content:\n",
    "\t\t\t\t\tnew_content = content.replace('%20', ' ')\n",
    "\t\t\t\t\twith open(filepath, 'w', encoding='utf-8') as f:\n",
    "\t\t\t\t\t\tf.write(new_content)\n",
    "\t\t\t\t\tprint(f\"Updated: {filepath}\")\n",
    "\n",
    "# 🔧 Change this to your target directory\n",
    "replace_percent20_in_md(os.getcwd())\n"
   ]
  },
  {
   "cell_type": "markdown",
   "id": "1f1e7167",
   "metadata": {},
   "source": [
    "## Start up the jekyll site\n",
    "If you're not already in the site, run the following line to start up teh jekyll site locally, so you can preview any changes before pushing them to Github Pages. This is useful for debugging and also so you don't have to wait for the Github Pages implementation (can take up to 10mins)"
   ]
  },
  {
   "cell_type": "code",
   "execution_count": 2,
   "id": "b0e6c012",
   "metadata": {},
   "outputs": [
    {
     "name": "stdout",
     "output_type": "stream",
     "text": [
      "Configuration file: /Users/demo/Library/CloudStorage/Box-Box/Holmes_Lab_Wiki/holmeslab.github.io/_config.yml\n"
     ]
    },
    {
     "name": "stderr",
     "output_type": "stream",
     "text": [
      "To use retry middleware with Faraday v2.0+, install `faraday-retry` gem\n"
     ]
    },
    {
     "name": "stdout",
     "output_type": "stream",
     "text": [
      "            Source: /Users/demo/Library/CloudStorage/Box-Box/Holmes_Lab_Wiki/holmeslab.github.io\n",
      "       Destination: /Users/demo/Library/CloudStorage/Box-Box/Holmes_Lab_Wiki/holmeslab.github.io/_site\n",
      " Incremental build: disabled. Enable with --incremental\n",
      "      Generating... \n"
     ]
    },
    {
     "name": "stderr",
     "output_type": "stream",
     "text": [
      "/Users/demo/.rbenv/versions/3.2.8/lib/ruby/gems/3.2.0/gems/jekyll-3.10.0/lib/jekyll/utils.rb:146:in `readline': Interrupt\n",
      "\tfrom /Users/demo/.rbenv/versions/3.2.8/lib/ruby/gems/3.2.0/gems/jekyll-3.10.0/lib/jekyll/utils.rb:146:in `open'\n",
      "\tfrom /Users/demo/.rbenv/versions/3.2.8/lib/ruby/gems/3.2.0/gems/jekyll-3.10.0/lib/jekyll/utils.rb:146:in `has_yaml_header?'\n",
      "\tfrom /Users/demo/.rbenv/versions/3.2.8/lib/ruby/gems/3.2.0/gems/jekyll-3.10.0/lib/jekyll/reader.rb:46:in `block in read_directories'\n",
      "\tfrom /Users/demo/.rbenv/versions/3.2.8/lib/ruby/gems/3.2.0/gems/jekyll-3.10.0/lib/jekyll/reader.rb:45:in `select'\n",
      "\tfrom /Users/demo/.rbenv/versions/3.2.8/lib/ruby/gems/3.2.0/gems/jekyll-3.10.0/lib/jekyll/reader.rb:45:in `read_directories'\n",
      "\tfrom /Users/demo/.rbenv/versions/3.2.8/lib/ruby/gems/3.2.0/gems/jekyll-3.10.0/lib/jekyll/reader.rb:80:in `block in retrieve_dirs'\n",
      "\tfrom /Users/demo/.rbenv/versions/3.2.8/lib/ruby/gems/3.2.0/gems/jekyll-3.10.0/lib/jekyll/reader.rb:76:in `each'\n",
      "\tfrom /Users/demo/.rbenv/versions/3.2.8/lib/ruby/gems/3.2.0/gems/jekyll-3.10.0/lib/jekyll/reader.rb:76:in `retrieve_dirs'\n",
      "\tfrom /Users/demo/.rbenv/versions/3.2.8/lib/ruby/gems/3.2.0/gems/jekyll-3.10.0/lib/jekyll/reader.rb:51:in `read_directories'\n",
      "\tfrom /Users/demo/.rbenv/versions/3.2.8/lib/ruby/gems/3.2.0/gems/jekyll-3.10.0/lib/jekyll/reader.rb:80:in `block in retrieve_dirs'\n",
      "\tfrom /Users/demo/.rbenv/versions/3.2.8/lib/ruby/gems/3.2.0/gems/jekyll-3.10.0/lib/jekyll/reader.rb:76:in `each'\n",
      "\tfrom /Users/demo/.rbenv/versions/3.2.8/lib/ruby/gems/3.2.0/gems/jekyll-3.10.0/lib/jekyll/reader.rb:76:in `retrieve_dirs'\n",
      "\tfrom /Users/demo/.rbenv/versions/3.2.8/lib/ruby/gems/3.2.0/gems/jekyll-3.10.0/lib/jekyll/reader.rb:51:in `read_directories'\n",
      "\tfrom /Users/demo/.rbenv/versions/3.2.8/lib/ruby/gems/3.2.0/gems/jekyll-3.10.0/lib/jekyll/reader.rb:80:in `block in retrieve_dirs'\n",
      "\tfrom /Users/demo/.rbenv/versions/3.2.8/lib/ruby/gems/3.2.0/gems/jekyll-3.10.0/lib/jekyll/reader.rb:76:in `each'\n",
      "\tfrom /Users/demo/.rbenv/versions/3.2.8/lib/ruby/gems/3.2.0/gems/jekyll-3.10.0/lib/jekyll/reader.rb:76:in `retrieve_dirs'\n",
      "\tfrom /Users/demo/.rbenv/versions/3.2.8/lib/ruby/gems/3.2.0/gems/jekyll-3.10.0/lib/jekyll/reader.rb:51:in `read_directories'\n",
      "\tfrom /Users/demo/.rbenv/versions/3.2.8/lib/ruby/gems/3.2.0/gems/jekyll-3.10.0/lib/jekyll/reader.rb:16:in `read'\n",
      "\tfrom /Users/demo/.rbenv/versions/3.2.8/lib/ruby/gems/3.2.0/gems/jekyll-3.10.0/lib/jekyll/site.rb:164:in `read'\n",
      "\tfrom /Users/demo/.rbenv/versions/3.2.8/lib/ruby/gems/3.2.0/gems/jekyll-3.10.0/lib/jekyll/site.rb:69:in `process'\n",
      "\tfrom /Users/demo/.rbenv/versions/3.2.8/lib/ruby/gems/3.2.0/gems/jekyll-3.10.0/lib/jekyll/command.rb:28:in `process_site'\n",
      "\tfrom /Users/demo/.rbenv/versions/3.2.8/lib/ruby/gems/3.2.0/gems/jekyll-3.10.0/lib/jekyll/commands/build.rb:65:in `build'\n",
      "\tfrom /Users/demo/.rbenv/versions/3.2.8/lib/ruby/gems/3.2.0/gems/jekyll-3.10.0/lib/jekyll/commands/build.rb:36:in `process'\n",
      "\tfrom /Users/demo/.rbenv/versions/3.2.8/lib/ruby/gems/3.2.0/gems/jekyll-3.10.0/lib/jekyll/commands/serve.rb:93:in `block in start'\n",
      "\tfrom /Users/demo/.rbenv/versions/3.2.8/lib/ruby/gems/3.2.0/gems/jekyll-3.10.0/lib/jekyll/commands/serve.rb:93:in `each'\n",
      "\tfrom /Users/demo/.rbenv/versions/3.2.8/lib/ruby/gems/3.2.0/gems/jekyll-3.10.0/lib/jekyll/commands/serve.rb:93:in `start'\n",
      "\tfrom /Users/demo/.rbenv/versions/3.2.8/lib/ruby/gems/3.2.0/gems/jekyll-3.10.0/lib/jekyll/commands/serve.rb:75:in `block (2 levels) in init_with_program'\n",
      "\tfrom /Users/demo/.rbenv/versions/3.2.8/lib/ruby/gems/3.2.0/gems/mercenary-0.3.6/lib/mercenary/command.rb:220:in `block in execute'\n",
      "\tfrom /Users/demo/.rbenv/versions/3.2.8/lib/ruby/gems/3.2.0/gems/mercenary-0.3.6/lib/mercenary/command.rb:220:in `each'\n",
      "\tfrom /Users/demo/.rbenv/versions/3.2.8/lib/ruby/gems/3.2.0/gems/mercenary-0.3.6/lib/mercenary/command.rb:220:in `execute'\n",
      "\tfrom /Users/demo/.rbenv/versions/3.2.8/lib/ruby/gems/3.2.0/gems/mercenary-0.3.6/lib/mercenary/program.rb:42:in `go'\n",
      "\tfrom /Users/demo/.rbenv/versions/3.2.8/lib/ruby/gems/3.2.0/gems/mercenary-0.3.6/lib/mercenary.rb:19:in `program'\n",
      "\tfrom /Users/demo/.rbenv/versions/3.2.8/lib/ruby/gems/3.2.0/gems/jekyll-3.10.0/exe/jekyll:15:in `<top (required)>'\n",
      "\tfrom /Users/demo/.rbenv/versions/3.2.8/bin/jekyll:25:in `load'\n",
      "\tfrom /Users/demo/.rbenv/versions/3.2.8/bin/jekyll:25:in `<top (required)>'\n",
      "\tfrom /Users/demo/.rbenv/versions/3.2.8/lib/ruby/gems/3.2.0/gems/bundler-2.5.9/lib/bundler/cli/exec.rb:58:in `load'\n",
      "\tfrom /Users/demo/.rbenv/versions/3.2.8/lib/ruby/gems/3.2.0/gems/bundler-2.5.9/lib/bundler/cli/exec.rb:58:in `kernel_load'\n",
      "\tfrom /Users/demo/.rbenv/versions/3.2.8/lib/ruby/gems/3.2.0/gems/bundler-2.5.9/lib/bundler/cli/exec.rb:23:in `run'\n",
      "\tfrom /Users/demo/.rbenv/versions/3.2.8/lib/ruby/gems/3.2.0/gems/bundler-2.5.9/lib/bundler/cli.rb:451:in `exec'\n",
      "\tfrom /Users/demo/.rbenv/versions/3.2.8/lib/ruby/gems/3.2.0/gems/bundler-2.5.9/lib/bundler/vendor/thor/lib/thor/command.rb:28:in `run'\n",
      "\tfrom /Users/demo/.rbenv/versions/3.2.8/lib/ruby/gems/3.2.0/gems/bundler-2.5.9/lib/bundler/vendor/thor/lib/thor/invocation.rb:127:in `invoke_command'\n",
      "\tfrom /Users/demo/.rbenv/versions/3.2.8/lib/ruby/gems/3.2.0/gems/bundler-2.5.9/lib/bundler/vendor/thor/lib/thor.rb:527:in `dispatch'\n",
      "\tfrom /Users/demo/.rbenv/versions/3.2.8/lib/ruby/gems/3.2.0/gems/bundler-2.5.9/lib/bundler/cli.rb:34:in `dispatch'\n",
      "\tfrom /Users/demo/.rbenv/versions/3.2.8/lib/ruby/gems/3.2.0/gems/bundler-2.5.9/lib/bundler/vendor/thor/lib/thor/base.rb:584:in `start'\n",
      "\tfrom /Users/demo/.rbenv/versions/3.2.8/lib/ruby/gems/3.2.0/gems/bundler-2.5.9/lib/bundler/cli.rb:28:in `start'\n",
      "\tfrom /Users/demo/.rbenv/versions/3.2.8/lib/ruby/gems/3.2.0/gems/bundler-2.5.9/exe/bundle:28:in `block in <top (required)>'\n",
      "\tfrom /Users/demo/.rbenv/versions/3.2.8/lib/ruby/gems/3.2.0/gems/bundler-2.5.9/lib/bundler/friendly_errors.rb:117:in `with_friendly_errors'\n",
      "\tfrom /Users/demo/.rbenv/versions/3.2.8/lib/ruby/gems/3.2.0/gems/bundler-2.5.9/exe/bundle:20:in `<top (required)>'\n",
      "\tfrom /Users/demo/.rbenv/versions/3.2.8/bin/bundle:25:in `load'\n",
      "\tfrom /Users/demo/.rbenv/versions/3.2.8/bin/bundle:25:in `<main>'\n"
     ]
    },
    {
     "data": {
      "text/plain": [
       "2"
      ]
     },
     "execution_count": 2,
     "metadata": {},
     "output_type": "execute_result"
    }
   ],
   "source": [
    "# Run this here or create 'New Terminal' and run \"bundle exec jekyll serve\" in the terminal\n",
    "os.system('bundle exec jekyll serve')"
   ]
  },
  {
   "cell_type": "markdown",
   "id": "d4d37a6c",
   "metadata": {},
   "source": [
    "## Push changes to Github Pages\n",
    "Once you're satisfied with your site, go through the following lines in the terminal or python to push your changes to github."
   ]
  },
  {
   "cell_type": "code",
   "execution_count": null,
   "id": "95be460f",
   "metadata": {},
   "outputs": [
    {
     "name": "stdout",
     "output_type": "stream",
     "text": [
      "On branch main\n",
      "Your branch is up to date with 'origin/main'.\n",
      "\n",
      "Changes to be committed:\n",
      "  (use \"git restore --staged <file>...\" to unstage)\n",
      "\tmodified:   docs/Current Projects/index.md\n",
      "\tnew file:   docs/Using this Wiki/Structure of this Wiki.md\n",
      "\tmodified:   docs/Using this Wiki/Using this Wiki.md\n",
      "\n",
      "[main f5df9ec] Adding ~structure of this wiki~ file\n",
      " 3 files changed, 310 insertions(+), 2 deletions(-)\n",
      " create mode 100644 docs/Using this Wiki/Structure of this Wiki.md\n"
     ]
    },
    {
     "name": "stderr",
     "output_type": "stream",
     "text": [
      "To https://github.com/HolmesLab/holmeslab.git\n",
      "   60b72f7..f5df9ec  main -> main\n"
     ]
    },
    {
     "data": {
      "text/plain": [
       "0"
      ]
     },
     "execution_count": 3,
     "metadata": {},
     "output_type": "execute_result"
    }
   ],
   "source": [
    "os.system('git add .') # This adds all changed files in the directory. If you want to just update one file/folder, just specify it by name\n",
    "os.system('git status') #optional, but prints out all that's being changed\n",
    "\n",
    "os.system(\"git commit -m 'INSERT COMMIT MESSAGE'\") #change the notes about commit based on what you're adding\n",
    "os.system('git push')\n"
   ]
  }
 ],
 "metadata": {
  "kernelspec": {
   "display_name": "base",
   "language": "python",
   "name": "python3"
  },
  "language_info": {
   "codemirror_mode": {
    "name": "ipython",
    "version": 3
   },
   "file_extension": ".py",
   "mimetype": "text/x-python",
   "name": "python",
   "nbconvert_exporter": "python",
   "pygments_lexer": "ipython3",
   "version": "3.12.7"
  }
 },
 "nbformat": 4,
 "nbformat_minor": 5
}
